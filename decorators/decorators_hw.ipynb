{
  "nbformat": 4,
  "nbformat_minor": 0,
  "metadata": {
    "colab": {
      "provenance": []
    },
    "kernelspec": {
      "name": "python3",
      "display_name": "Python 3"
    },
    "language_info": {
      "name": "python"
    }
  },
  "cells": [
    {
      "cell_type": "markdown",
      "source": [
        "# Домашнее задание: декораторы"
      ],
      "metadata": {
        "id": "QY4qPJPpgyIS"
      }
    },
    {
      "cell_type": "markdown",
      "source": [
        "## Импорт библиотек, установка констант"
      ],
      "metadata": {
        "id": "Chacc6YchldZ"
      }
    },
    {
      "cell_type": "code",
      "source": [
        "import requests\n",
        "import time\n",
        "import re\n",
        "\n",
        "from random import randint"
      ],
      "metadata": {
        "id": "w8iKrWvwhrFd"
      },
      "execution_count": null,
      "outputs": []
    },
    {
      "cell_type": "code",
      "source": [
        "BOOK_PATH = 'https://www.gutenberg.org/files/2638/2638-0.txt'"
      ],
      "metadata": {
        "id": "-LRkS0fSi8Np"
      },
      "execution_count": null,
      "outputs": []
    },
    {
      "cell_type": "markdown",
      "source": [
        "## Задание 1"
      ],
      "metadata": {
        "id": "kARfL8ifg4MH"
      }
    },
    {
      "cell_type": "code",
      "execution_count": null,
      "metadata": {
        "id": "hNHNWPhngrUl"
      },
      "outputs": [],
      "source": [
        "import time\n",
        "\n",
        "def benchmark(func):\n",
        "    \"\"\"\n",
        "    Декоратор, выводящий время, которое заняло выполнение декорируемой функции\n",
        "    \"\"\"\n",
        "\n",
        "    def wrapper(*args, **kwargs):\n",
        "        start = time.perf_counter()\n",
        "        res = func(*args, **kwargs)\n",
        "        end = time.perf_counter()\n",
        "        print(f'Время выполнения {func.__name__}: {end - start:.6f} секунд')\n",
        "        return res\n",
        "\n",
        "    return wrapper"
      ]
    },
    {
      "cell_type": "markdown",
      "source": [
        "## Задание 2"
      ],
      "metadata": {
        "id": "tGlbUKjihL5n"
      }
    },
    {
      "cell_type": "code",
      "source": [
        "def logging(func):\n",
        "    \"\"\"\n",
        "    Декоратор, который выводит параметры с которыми была вызвана функция\n",
        "    \"\"\"\n",
        "\n",
        "    def wrapper(*args, **kwargs):\n",
        "        print(\"Функция вызвана с параметрами:\")\n",
        "        print(args, kwargs)\n",
        "        return func(*args, **kwargs)\n",
        "\n",
        "    return wrapper"
      ],
      "metadata": {
        "id": "wugOZDLqhNe-"
      },
      "execution_count": null,
      "outputs": []
    },
    {
      "cell_type": "markdown",
      "source": [
        "## Задание 3"
      ],
      "metadata": {
        "id": "Sq1tv5fshTfv"
      }
    },
    {
      "cell_type": "code",
      "source": [
        "def counter(func):\n",
        "    \"\"\"\n",
        "    Декоратор, считающий и выводящий количество вызовов декорируемой функции\n",
        "    \"\"\"\n",
        "    cnt = 0\n",
        "\n",
        "    def wrapper(*args, **kwargs):\n",
        "        wrapper.cnt += 1\n",
        "        print(f\"Функция была вызвана: {wrapper.cnt} раз\")\n",
        "        return func(*args, **kwargs)\n",
        "\n",
        "    wrapper.cnt = cnt\n",
        "    return wrapper"
      ],
      "metadata": {
        "id": "9nyvuxXkhVeb"
      },
      "execution_count": null,
      "outputs": []
    },
    {
      "cell_type": "markdown",
      "source": [
        "## Задание 4"
      ],
      "metadata": {
        "id": "uHn8Adfshz5q"
      }
    },
    {
      "cell_type": "code",
      "source": [
        "def memo(func):\n",
        "  \"\"\"\n",
        "  Декоратор, запоминающий результаты исполнения функции func, чьи аргументы args должны быть хешируемыми\n",
        "  \"\"\"\n",
        "  cache = {}\n",
        "\n",
        "  def fmemo(*args):\n",
        "    if fmemo.cache.get(args, None):\n",
        "        return fmemo.cache[args]\n",
        "\n",
        "    res = func(*args)\n",
        "    fmemo.cache[args] = res\n",
        "    return res\n",
        "\n",
        "  fmemo.cache = cache\n",
        "  return fmemo"
      ],
      "metadata": {
        "id": "R7uu6WtGifNX"
      },
      "execution_count": null,
      "outputs": []
    },
    {
      "cell_type": "markdown",
      "source": [
        "## Тестирование"
      ],
      "metadata": {
        "id": "Zn5UQCa_izxo"
      }
    },
    {
      "cell_type": "code",
      "source": [
        "@counter\n",
        "@logging\n",
        "@benchmark\n",
        "def word_count(word, url=BOOK_PATH):\n",
        "    \"\"\"\n",
        "    Функция для посчета указанного слова на html-странице\n",
        "    \"\"\"\n",
        "\n",
        "    # отправляем запрос в библиотеку Gutenberg и забираем текст\n",
        "    raw = requests.get(url).text\n",
        "\n",
        "    # заменяем в тексте все небуквенные символы на пробелы\n",
        "    processed_book = re.sub('[\\W]+' , ' ', raw).lower()\n",
        "\n",
        "    # считаем\n",
        "    cnt = len(re.findall(word.lower(), processed_book))\n",
        "\n",
        "    return f\"Cлово {word} встречается {cnt} раз\"\n",
        "\n",
        "print(word_count('whole'))"
      ],
      "metadata": {
        "id": "CHCJ64I8i2QB",
        "colab": {
          "base_uri": "https://localhost:8080/"
        },
        "outputId": "6b96bc3f-20a1-4e8e-e08b-746fa005785e"
      },
      "execution_count": null,
      "outputs": [
        {
          "output_type": "stream",
          "name": "stdout",
          "text": [
            "Функция была вызвана: 1 раз\n",
            "Функция вызвана с параметрами:\n",
            "('whole',) {}\n",
            "Время выполнения word_count: 0.807845 секунд\n",
            "Cлово whole встречается 176 раз\n"
          ]
        }
      ]
    },
    {
      "cell_type": "code",
      "source": [
        "print(word_count('whole'))\n",
        "print(word_count('whole'))\n",
        "print(word_count('whole'))\n",
        "print(word_count('whole'))\n",
        "print(word_count('whole'))"
      ],
      "metadata": {
        "colab": {
          "base_uri": "https://localhost:8080/"
        },
        "id": "9PTDI8qmb8uf",
        "outputId": "34b6aab5-9ec3-405a-97a2-fae7c00824b9"
      },
      "execution_count": null,
      "outputs": [
        {
          "output_type": "stream",
          "name": "stdout",
          "text": [
            "Функция была вызвана: 2 раз\n",
            "Функция вызвана с параметрами:\n",
            "('whole',) {}\n",
            "Время выполнения word_count: 0.708743 секунд\n",
            "Cлово whole встречается 176 раз\n",
            "Функция была вызвана: 3 раз\n",
            "Функция вызвана с параметрами:\n",
            "('whole',) {}\n",
            "Время выполнения word_count: 0.701795 секунд\n",
            "Cлово whole встречается 176 раз\n",
            "Функция была вызвана: 4 раз\n",
            "Функция вызвана с параметрами:\n",
            "('whole',) {}\n",
            "Время выполнения word_count: 0.951594 секунд\n",
            "Cлово whole встречается 176 раз\n",
            "Функция была вызвана: 5 раз\n",
            "Функция вызвана с параметрами:\n",
            "('whole',) {}\n",
            "Время выполнения word_count: 0.967528 секунд\n",
            "Cлово whole встречается 176 раз\n",
            "Функция была вызвана: 6 раз\n",
            "Функция вызвана с параметрами:\n",
            "('whole',) {}\n",
            "Время выполнения word_count: 0.849892 секунд\n",
            "Cлово whole встречается 176 раз\n"
          ]
        }
      ]
    },
    {
      "cell_type": "code",
      "source": [
        "def fib(n):\n",
        "    if n < 2:\n",
        "        return n\n",
        "    return fib(n-2) + fib(n-1)"
      ],
      "metadata": {
        "id": "ZE4Rfn-hh3k3"
      },
      "execution_count": null,
      "outputs": []
    },
    {
      "cell_type": "code",
      "source": [
        "# измеряем время выполнения\n",
        "%%time\n",
        "fib(33)"
      ],
      "metadata": {
        "id": "Io94NyjiiXG4",
        "colab": {
          "base_uri": "https://localhost:8080/"
        },
        "outputId": "16926ab9-ae6d-4261-9c86-7c23eed851d8"
      },
      "execution_count": null,
      "outputs": [
        {
          "output_type": "stream",
          "name": "stdout",
          "text": [
            "CPU times: user 816 ms, sys: 3.48 ms, total: 819 ms\n",
            "Wall time: 823 ms\n"
          ]
        },
        {
          "output_type": "execute_result",
          "data": {
            "text/plain": [
              "3524578"
            ]
          },
          "metadata": {},
          "execution_count": 10
        }
      ]
    },
    {
      "cell_type": "code",
      "source": [
        "@memo\n",
        "def fib(n):\n",
        "    if n < 2:\n",
        "        return n\n",
        "    return fib(n-2) + fib(n-1)"
      ],
      "metadata": {
        "id": "W9B3e-t9iTUj"
      },
      "execution_count": null,
      "outputs": []
    },
    {
      "cell_type": "code",
      "source": [
        "# измеряем время выполнения\n",
        "%%time\n",
        "fib(33)"
      ],
      "metadata": {
        "id": "Sk6_4KQaidkh",
        "colab": {
          "base_uri": "https://localhost:8080/"
        },
        "outputId": "0b20c24a-27a4-4c91-fb0e-6566e1c177c7"
      },
      "execution_count": null,
      "outputs": [
        {
          "output_type": "stream",
          "name": "stdout",
          "text": [
            "CPU times: user 61 µs, sys: 0 ns, total: 61 µs\n",
            "Wall time: 65.6 µs\n"
          ]
        },
        {
          "output_type": "execute_result",
          "data": {
            "text/plain": [
              "3524578"
            ]
          },
          "metadata": {},
          "execution_count": 12
        }
      ]
    },
    {
      "cell_type": "code",
      "source": [],
      "metadata": {
        "id": "O9zp62YsdEjW"
      },
      "execution_count": null,
      "outputs": []
    }
  ]
}